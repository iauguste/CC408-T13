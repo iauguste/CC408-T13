{
 "cells": [
  {
   "cell_type": "markdown",
   "metadata": {
    "collapsed": true,
    "id": "Dh8MkXaG-c9Y",
    "jupyter": {
     "outputs_hidden": true
    }
   },
   "source": [
    "# Ciencia de datos (CC408) - Primavera 2024\n",
    "\n",
    "## Trabajo Práctico 1 - Parte 1 "
   ]
  },
  {
   "cell_type": "markdown",
   "metadata": {
    "id": "RhBlm6mZ-c9e"
   },
   "source": [
    "### Reglas de formato y presentación\n",
    "- El trabajo debe estar debidamente documentado comentado (utilizando #) para que tanto los docentes como sus compañeros puedan comprender el código fácilmente.\n",
    "\n",
    "- El mismo debe ser completado en este Jupyter Notebook y entregado como tal, es decir en un archivo .ipynb\n"
   ]
  },
  {
   "cell_type": "markdown",
   "metadata": {
    "id": "ZEjGaa4U-c9g"
   },
   "source": [
    "### Fecha de entrega:\n",
    "Domingo 8 de septiembre a las 23:59hs"
   ]
  },
  {
   "cell_type": "markdown",
   "metadata": {
    "id": "N9TU2y7E-c9h"
   },
   "source": [
    "### Modalidad de entrega\n",
    "- Al finalizar el trabajo práctico deben hacer un último <i>commit</i> en su repositorio de GitHub llamado “Entrega final del tp”. \n",
    "- Asegurense de haber creado una carpeta llamada TP1. Este Jupyter Notebook y el correspondiente al TP1 - Parte 1 deben estar dentro de esa carpeta.\n",
    "- También deben enviar el link de su repositorio -para que pueda ser clonado y corregido- al siguiente email: ispiousas@udesa.edu.ar\n",
    "- La última versión en el repositorio es la que será evaluada. Por lo que es importante que: \n",
    "    - No envien el correo hasta no haber terminado y estar seguros de que han hecho el <i>commit y push</i> a la versión final que quieren entregar. Debido a que se pueden tomar hasta 3 días de extensión a lo largo del curso, no se corregirán sus tareas hasta no recibir el correo.\n",
    "    - No hagan nuevos <i>push</i> despues de haber entregado su versión final. Esto generaría confusión acerca de que versión es la que quieren que se les corrija. "
   ]
  },
  {
   "cell_type": "markdown",
   "metadata": {
    "id": "ZXbrPraa-c9i"
   },
   "source": [
    "#### Ejercicio 1\n",
    "Este ejercicio simplemente busca repasar lo que aprendimos sobre definición de variables. Definir dos variables con un nombre combinado (al menos dos palabras), una que se pueda crear y otra que tenga un nombre inaceptable (genera error). Explicar por qué ocurre el error."
   ]
  },
  {
   "cell_type": "code",
   "execution_count": 1,
   "metadata": {
    "id": "mb7PkXfN-c9j"
   },
   "outputs": [
    {
     "name": "stdout",
     "output_type": "stream",
     "text": [
      "Esto sí funciona\n"
     ]
    }
   ],
   "source": [
    "# Caso A\n",
    "var_funciona = str('Esto sí funciona')\n",
    "print(var_funciona)"
   ]
  },
  {
   "cell_type": "code",
   "execution_count": 2,
   "metadata": {},
   "outputs": [
    {
     "ename": "SyntaxError",
     "evalue": "invalid syntax (1033554471.py, line 2)",
     "output_type": "error",
     "traceback": [
      "\u001b[1;36m  Cell \u001b[1;32mIn[2], line 2\u001b[1;36m\u001b[0m\n\u001b[1;33m    no funciona = str('Salta error')\u001b[0m\n\u001b[1;37m       ^\u001b[0m\n\u001b[1;31mSyntaxError\u001b[0m\u001b[1;31m:\u001b[0m invalid syntax\n"
     ]
    }
   ],
   "source": [
    "# Caso B (acá debería saltar un error)\n",
    "no funciona = str('Salta error')\n",
    "print(no funciona)\n",
    "# Salta error porque no se pueden hacer variables con un espacio entre las palabras, ya que no toma que están juntas."
   ]
  },
  {
   "cell_type": "code",
   "execution_count": null,
   "metadata": {},
   "outputs": [],
   "source": [
    "#### Ejercicio 2\n",
    "Importar módulos. Usando el módulo math impriman la tangente de 1. ¿Cuál es el resultado?\n",
    "Hagan este cálculo de dos formas: primero importando el módulo math y usando la función correspondiente y luego solo importando la función específica que precisan para el cálculo."
   ]
  },
  {
   "cell_type": "code",
   "execution_count": 3,
   "metadata": {},
   "outputs": [
    {
     "data": {
      "text/plain": [
       "1.5574077246549023"
      ]
     },
     "execution_count": 3,
     "metadata": {},
     "output_type": "execute_result"
    }
   ],
   "source": [
    "# Caso A\n",
    "import math\n",
    "math.tan(1)"
   ]
  },
  {
   "cell_type": "code",
   "execution_count": 4,
   "metadata": {},
   "outputs": [
    {
     "data": {
      "text/plain": [
       "1.5574077246549023"
      ]
     },
     "execution_count": 4,
     "metadata": {},
     "output_type": "execute_result"
    }
   ],
   "source": [
    "# Caso B\n",
    "from math import tan\n",
    "tan(1)"
   ]
  },
  {
   "cell_type": "markdown",
   "metadata": {
    "id": "GlNh0fyv-c9l"
   },
   "source": [
    "#### Ejercicio 3 \n",
    "Este ejercicio trata sobre lograr el intercambio de valores entre dos variables utilizando una variable temporal para hacerlo. Las variables temporales y la sustitución de valores termina siendo útil en algunos loops. Los pasos a seguir son: (a) definir variables A y B (cuyos valores buscaremos invertir); (b) definir una variable temporal que resguarde el valor de B; (c) sustitución (asignar B igual a A y también A igual al valor original de B); (d) imprimir valores para verificar."
   ]
  },
  {
   "cell_type": "code",
   "execution_count": 5,
   "metadata": {
    "id": "uWalSYFC-c9m"
   },
   "outputs": [
    {
     "name": "stdout",
     "output_type": "stream",
     "text": [
      "Variable A: 1\n",
      "Variable B: 1\n",
      "Variable temporal: 2\n"
     ]
    }
   ],
   "source": [
    "# a) Definir variables A y B, \n",
    "a = 1\n",
    "b = 2\n",
    "\n",
    "# b) Definir variable temporal \"tmp\" igual a B (la variable, no el valor)\n",
    "tmp = b\n",
    "\n",
    "# c) Ahora sustituir variables: variable B igual a variable A (la variable, no el\n",
    "# valor) y viceversa.\n",
    "b = a\n",
    "a = b\n",
    "\n",
    "# d) Verifiquemos resultados: imprimir variables A y B\n",
    "print('Variable A:', a)\n",
    "print('Variable B:', b)\n",
    "print('Variable temporal:', tmp)"
   ]
  },
  {
   "cell_type": "markdown",
   "metadata": {
    "id": "wXhAaRyN-c9p"
   },
   "source": [
    "#### Ejercicio 4\n",
    "En este ejercicio se busca poner en práctica el uso de range() en un for loop. \n",
    "\n",
    "Construir un for loop usando un range(). El range debe ser entre los valores que quieran (con una diferencia mínima de 15 entre start y stop), en incrementos de 3 unidades. Dentro del loop, implementar una sentencia condicional que imprima una leyenda indicando si el input es par o impar."
   ]
  },
  {
   "cell_type": "code",
   "execution_count": 6,
   "metadata": {
    "id": "_oE5sG0c-c9q"
   },
   "outputs": [
    {
     "name": "stdout",
     "output_type": "stream",
     "text": [
      "Es impar\n",
      "Es par\n",
      "Es impar\n",
      "Es par\n",
      "Es impar\n",
      "Es par\n",
      "Es impar\n",
      "Es par\n",
      "Es impar\n",
      "Es par\n",
      "Es impar\n",
      "Es par\n",
      "Es impar\n",
      "Es par\n",
      "Es impar\n",
      "Es par\n",
      "Es impar\n",
      "Es par\n",
      "Es impar\n",
      "Es par\n",
      "Es impar\n",
      "Es par\n",
      "Es impar\n",
      "Es par\n",
      "Es impar\n",
      "Es par\n",
      "Es impar\n",
      "Es par\n",
      "Es impar\n",
      "Es par\n",
      "Es impar\n",
      "Es par\n",
      "Es impar\n",
      "Es par\n",
      "Es impar\n",
      "Es par\n",
      "Es impar\n",
      "Es par\n",
      "Es impar\n",
      "Es par\n",
      "Es impar\n",
      "Es par\n",
      "Es impar\n",
      "Es par\n",
      "Es impar\n",
      "Es par\n",
      "Es impar\n",
      "Es par\n",
      "Es impar\n",
      "Es par\n"
     ]
    }
   ],
   "source": [
    "# Resolver acá\n",
    "for i in range(100,150):\n",
    "    a = i + 3\n",
    "    if a%2 == 0:\n",
    "        print('Es par')\n",
    "    else:\n",
    "        print('Es impar')"
   ]
  },
  {
   "cell_type": "markdown",
   "metadata": {
    "id": "h3g5bXUB-c9u"
   },
   "source": [
    "#### Ejercicio 5\n",
    "Para practicar el uso de condiciones lógicas y la definición de funciones, construir una función con una sentencia condicional que verifique si un año es bisiesto o no. Para que un año sea bisiesto debe cumplir una de dos condiciones:\n",
    "\n",
    "(a) que sea divisible por 400; o\n",
    "\n",
    "(b) que sea divisible por 4 y no sea divisible por 100\n",
    "\n",
    "Notar que son dos condiciones, donde la segunda condición tiene dos componentes. Prueben la función con 3 valores para verificar que funcione."
   ]
  },
  {
   "cell_type": "code",
   "execution_count": 7,
   "metadata": {
    "id": "7_MnILdz-c9v"
   },
   "outputs": [],
   "source": [
    "# Resolver acá\n",
    "def anio_bisiesto(fecha):\n",
    "    '''Esta función se encarga de observar si el año ingresado es bisiesto o no.'''\n",
    "    if fecha%400 == 0:\n",
    "        print('Es año bisiesto')\n",
    "    elif fecha%4 == 0 and fecha%100 != 0:\n",
    "        print('Es año bisiesto')\n",
    "    else:\n",
    "        print('No es año bisiesto')"
   ]
  },
  {
   "cell_type": "code",
   "execution_count": 8,
   "metadata": {},
   "outputs": [
    {
     "name": "stdout",
     "output_type": "stream",
     "text": [
      "No es año bisiesto\n",
      "Es año bisiesto\n",
      "Es año bisiesto\n"
     ]
    }
   ],
   "source": [
    "# Comprobamos que la función funcione\n",
    "anio_bisiesto(2015)\n",
    "anio_bisiesto(2000)\n",
    "anio_bisiesto(2008)"
   ]
  },
  {
   "cell_type": "markdown",
   "metadata": {
    "collapsed": true,
    "id": "P3a7bJkd-c9w",
    "jupyter": {
     "outputs_hidden": true
    }
   },
   "source": [
    "#### Ejercicio 6 \n",
    "Pongamos en práctica identificar el type() de cada variable. A continuación tenemos una lista con elementos de diferentes tipos. Construyan un for loop que itere sobre la lista e imprima un cartel indicando el tipo de dato u objeto que hay en cada caso."
   ]
  },
  {
   "cell_type": "code",
   "execution_count": 9,
   "metadata": {
    "id": "jDf4d_Wr-c9w"
   },
   "outputs": [],
   "source": [
    "mi_lista = [10, 34.5, 99999, 'abc', [1,2,3], ('ARG', 1810), {'pob': 45}, True]"
   ]
  },
  {
   "cell_type": "code",
   "execution_count": 10,
   "metadata": {
    "id": "SAJgEiNEFQAS"
   },
   "outputs": [
    {
     "name": "stdout",
     "output_type": "stream",
     "text": [
      "<class 'int'>\n",
      "<class 'float'>\n",
      "<class 'int'>\n",
      "<class 'str'>\n",
      "<class 'list'>\n",
      "<class 'tuple'>\n",
      "<class 'dict'>\n",
      "<class 'bool'>\n"
     ]
    }
   ],
   "source": [
    "# Resolver acá\n",
    "for i in mi_lista:\n",
    "    print(type(i))"
   ]
  },
  {
   "cell_type": "markdown",
   "metadata": {
    "id": "y1lncitl-c9x"
   },
   "source": [
    "#### Ejercicio 7\n",
    "Ahora definan ustedes una nueva lista, en la que los primeros cuatro elementos sean palabras (strings), el quinto elemento no sea string, y el sexto sea string. Construyan un for loop que corra por la lista y que imprima la palabra y la longitud de la misma. Que el loop contenga una sentencia condicional que imprima un cartel \"Elemento no es un string: < el elemento > | < class del elemento >\" para los casos dónde el elemento evaluado no sea string."
   ]
  },
  {
   "cell_type": "code",
   "execution_count": 11,
   "metadata": {
    "id": "bFOk9Os0-c9x"
   },
   "outputs": [
    {
     "name": "stdout",
     "output_type": "stream",
     "text": [
      "La palabra es Hola y su longitud es 4\n",
      "La palabra es Chau y su longitud es 4\n",
      "La palabra es Bueno y su longitud es 5\n",
      "La palabra es Malo y su longitud es 4\n",
      "Este elemento no es un string. El elemento es 3 y es un <class 'int'>\n",
      "La palabra es No y su longitud es 2\n"
     ]
    }
   ],
   "source": [
    "# Resolver acá\n",
    "nuestra_lista = ['Hola', 'Chau', 'Bueno', 'Malo', 3, 'No']\n",
    "\n",
    "for i in nuestra_lista:\n",
    "    if type(i) == str:\n",
    "        print('La palabra es', i, 'y su longitud es', len(i))\n",
    "    else:\n",
    "        print('Este elemento no es un string. El elemento es', i, 'y es un', type(i))"
   ]
  },
  {
   "cell_type": "markdown",
   "metadata": {},
   "source": [
    "#### Ejercicio 8"
   ]
  },
  {
   "cell_type": "markdown",
   "metadata": {},
   "source": [
    "Construyan una función llamada 'suma' que tome una cantidad variable de parámetros y devuelva el resultado de la suma."
   ]
  },
  {
   "cell_type": "code",
   "execution_count": 12,
   "metadata": {},
   "outputs": [],
   "source": [
    "# Resolver acá\n",
    "def suma(*numeros):\n",
    "    #Cuando se le pone asterisco antes de una variable, la funcion admite una cantidad varibale de parametros\n",
    "    return sum(numeros)"
   ]
  },
  {
   "cell_type": "code",
   "execution_count": 13,
   "metadata": {},
   "outputs": [
    {
     "data": {
      "text/plain": [
       "7"
      ]
     },
     "execution_count": 13,
     "metadata": {},
     "output_type": "execute_result"
    }
   ],
   "source": [
    "suma(3, 4)"
   ]
  },
  {
   "cell_type": "code",
   "execution_count": 14,
   "metadata": {},
   "outputs": [
    {
     "data": {
      "text/plain": [
       "50.4"
      ]
     },
     "execution_count": 14,
     "metadata": {},
     "output_type": "execute_result"
    }
   ],
   "source": [
    "suma(-12, 22.4, 40)"
   ]
  },
  {
   "cell_type": "markdown",
   "metadata": {
    "id": "PUpxDz72-c9x"
   },
   "source": [
    "#### Ejercicio 9\n",
    "Argentina tiene una representación legislativa proporcional en la cual la cantidad de diputados se debería ajustar según el tamaño de población de cada provincia. Otra característica de la representación legislativa del país es que hay una cantidad mínima de diputados por provincia (5). Esto genera un desbalance en la cantidad de ciudadanos por cada representante en el Congreso entre provincias.\n",
    "\n",
    "A continuación preparamos algunos ejemplos, dividiendo la población de cada provincia (según estimación para el 2022) por la cantidad de representantes en el Congreso para esa misma jurisdicción. También armamos el equivalente para el total país y una lista con los valores provinciales.\n",
    "\n",
    "En este ejercicio les pedimos que construyan un for loop que itere sobre el diccionario definido y compare cada valor provincial contra el valor de proporcionalidad directa (la variable argentina). El loop debe imprimir una leyenda que indique si la provincia está sobrerepresentada, subrepresentada o con representación proporcional. Además, queremos que el mismo loop compare los valores de las provincias sobrerepresentadas y que guarde el valor de la provincia con mayor sobrerepresentación. Luego del loop impriman este valor así podemos ver que haya funcionado.\n",
    "\n",
    "Fuente para población: https://es.wikipedia.org/wiki/Demograf%C3%ADa_de_Argentina\n",
    "\n",
    "Fuente para representantes: https://es.wikipedia.org/wiki/C%C3%A1mara_de_Diputados_de_la_Naci%C3%B3n_Argentina"
   ]
  },
  {
   "cell_type": "code",
   "execution_count": 15,
   "metadata": {
    "id": "hd8Z5AHs-c9y"
   },
   "outputs": [],
   "source": [
    "# Valor de referencia: proporcionalidad\n",
    "argentina = 46044703 / 257\n",
    "\n",
    "# Creamos variables para una selección de jurisdicciones\n",
    "cordoba = 3978984 / 18\n",
    "santa_fe = 3556522 / 19\n",
    "mendoza = 2014533 / 10\n",
    "buenos_aires = 17569053 / 70\n",
    "entre_rios =  1426426 / 9\n",
    "santa_cruz = 333473 / 5\n",
    "formosa = 606041 / 5\n",
    "\n",
    "# Definimos el diccionario para iterar\n",
    "dict_provincias = {\n",
    "    \"Córdoba\": cordoba,\n",
    "    \"Santa Fe\": santa_fe,\n",
    "    \"Mendoza\": mendoza,\n",
    "    \"Buenos Aires\": buenos_aires,\n",
    "    \"Entre Ríos\": entre_rios,\n",
    "    \"Santa Cruz\": santa_cruz,\n",
    "    \"Formosa\": formosa\n",
    "}"
   ]
  },
  {
   "cell_type": "code",
   "execution_count": 16,
   "metadata": {
    "id": "fsEHnxiY-c9y"
   },
   "outputs": [
    {
     "name": "stdout",
     "output_type": "stream",
     "text": [
      "Córdoba se encuentra subrepresentada con 221054.66666666666\n",
      "Santa Fe se encuentra subrepresentada con 187185.36842105264\n",
      "Mendoza se encuentra subrepresentada con 201453.3\n",
      "Buenos Aires se encuentra subrepresentada con 250986.4714285714\n",
      "Entre Ríos se encuentra sobrerepresentada con 158491.77777777778\n",
      "Santa Cruz se encuentra sobrerepresentada con 66694.6\n",
      "Formosa se encuentra sobrerepresentada con 121208.2\n",
      "\n",
      "El valor de la provincia con mayor sobrerepresentación es 158491.77777777778\n"
     ]
    }
   ],
   "source": [
    "# Resolver acá\n",
    "sobrerepresentadas = []\n",
    "\n",
    "for i in dict_provincias:\n",
    "    if dict_provincias[i] > argentina:\n",
    "        print(i,'se encuentra subrepresentada con', dict_provincias[i])\n",
    "    elif dict_provincias[i] < argentina:\n",
    "        print(i,'se encuentra sobrerepresentada con', dict_provincias[i])\n",
    "        sobrerepresentadas.append(dict_provincias[i])\n",
    "    else:\n",
    "        print(i,'se encuentra proporcionalmente representada con', dict_provincias[i])\n",
    "\n",
    "print('\\nEl valor de la provincia con mayor sobrerepresentación es', max(sobrerepresentadas))"
   ]
  },
  {
   "cell_type": "code",
   "execution_count": 17,
   "metadata": {},
   "outputs": [
    {
     "name": "stdout",
     "output_type": "stream",
     "text": [
      "Córdoba se encuentra subrepresentada con: 221054.66666666666\n",
      "Santa Fe se encuentra subrepresentada con: 187185.36842105264\n",
      "Mendoza se encuentra subrepresentada con: 201453.3\n",
      "Buenos Aires se encuentra subrepresentada con: 250986.4714285714\n",
      "La provincia Entre Ríos se encuentra sobrerepresentada con: 158491.77777777778\n",
      "La provincia Santa Cruz se encuentra sobrerepresentada con: 66694.6\n",
      "La provincia Formosa se encuentra sobrerepresentada con: 121208.2\n",
      "\n",
      "La provincia más sobrerepresentada es Entre Ríos con 158491.77777777778\n"
     ]
    }
   ],
   "source": [
    "provsobrerep = None\n",
    "difmax = int(0)\n",
    "for i in dict_provincias:\n",
    "    if dict_provincias[i] > argentina:\n",
    "        print( i,'se encuentra subrepresentada con:', dict_provincias[i])\n",
    "    elif dict_provincias[i] < argentina:\n",
    "        print('La provincia', i,'se encuentra sobrerepresentada con:', dict_provincias[i])\n",
    "        dif= dict_provincias[i]\n",
    "        if dif > difmax:\n",
    "            difmax = dif\n",
    "            provsobrerep = i\n",
    "            prov = dict_provincias[i]\n",
    "    else:\n",
    "        print('La provincia', i,'se encuentra proporcionalmente representada', dict_provincias[i])\n",
    "print (\"\\nLa provincia más sobrerepresentada es\",provsobrerep, 'con', prov)"
   ]
  },
  {
   "cell_type": "markdown",
   "metadata": {
    "id": "GokZe5tV-c9z"
   },
   "source": [
    "#### Ejercicio 10\n",
    "Si buscáramos minimizar la subrepresentación de la provincia de Buenos Aires, ¿cuántos representantes debería tener según el Censo 2022? Usemos el mismo criterio de sub/sobrerepresentacion que en el ejercicio anterior: población sobre cantidad de representantes.\n",
    "\n",
    "Para responder esta pregunta construyan un while loop que incremente de a uno la cantidad de representantes de la Provincia hasta minimizar la subrepresentación. En cada iteración impriman un cartel que diga: \"Se agregó un representante, el total ahora es X\" dónde X es el número de representantes simulado."
   ]
  },
  {
   "cell_type": "code",
   "execution_count": 24,
   "metadata": {
    "id": "x9DvuXa_-c9z"
   },
   "outputs": [],
   "source": [
    "# Estos son los valores de la provincia\n",
    "representantes_pba = 70\n",
    "poblacion2010_pba = 17594428\n",
    "\n",
    "\n",
    "# Y el valor de referencia nacional\n",
    "argentina = 46044703 / 257"
   ]
  },
  {
   "cell_type": "code",
   "execution_count": 23,
   "metadata": {},
   "outputs": [
    {
     "name": "stdout",
     "output_type": "stream",
     "text": [
      "Se restó un representante, el total ahora es 71\n",
      "Se restó un representante, el total ahora es 72\n",
      "Se restó un representante, el total ahora es 73\n",
      "Se restó un representante, el total ahora es 74\n",
      "Se restó un representante, el total ahora es 75\n",
      "Se restó un representante, el total ahora es 76\n",
      "Se restó un representante, el total ahora es 77\n",
      "Se restó un representante, el total ahora es 78\n",
      "Se restó un representante, el total ahora es 79\n",
      "Se restó un representante, el total ahora es 80\n",
      "Se restó un representante, el total ahora es 81\n",
      "Se restó un representante, el total ahora es 82\n",
      "Se restó un representante, el total ahora es 83\n",
      "Se restó un representante, el total ahora es 84\n",
      "Se restó un representante, el total ahora es 85\n",
      "Se restó un representante, el total ahora es 86\n",
      "Se restó un representante, el total ahora es 87\n",
      "Se restó un representante, el total ahora es 88\n",
      "Se restó un representante, el total ahora es 89\n",
      "Se restó un representante, el total ahora es 90\n",
      "Se restó un representante, el total ahora es 91\n",
      "Se restó un representante, el total ahora es 92\n",
      "Se restó un representante, el total ahora es 93\n",
      "Se restó un representante, el total ahora es 94\n",
      "Se restó un representante, el total ahora es 95\n",
      "Se restó un representante, el total ahora es 96\n",
      "Se restó un representante, el total ahora es 97\n",
      "Se restó un representante, el total ahora es 98\n",
      "Se restó un representante, el total ahora es 99\n"
     ]
    }
   ],
   "source": [
    "# Resolver acá\n",
    "while poblacion2010_pba/representantes_pba > argentina:\n",
    "    representantes_pba = representantes_pba + 1\n",
    "    print('Se restó un representante, el total ahora es', representantes_pba)"
   ]
  }
 ],
 "metadata": {
  "anaconda-cloud": {},
  "colab": {
   "name": "TP1 - Parte 1.ipynb",
   "provenance": []
  },
  "kernelspec": {
   "display_name": "Python 3 (ipykernel)",
   "language": "python",
   "name": "python3"
  },
  "language_info": {
   "codemirror_mode": {
    "name": "ipython",
    "version": 3
   },
   "file_extension": ".py",
   "mimetype": "text/x-python",
   "name": "python",
   "nbconvert_exporter": "python",
   "pygments_lexer": "ipython3",
   "version": "3.12.4"
  }
 },
 "nbformat": 4,
 "nbformat_minor": 4
}
